{
  "nbformat": 4,
  "nbformat_minor": 0,
  "metadata": {
    "colab": {
      "provenance": []
    },
    "kernelspec": {
      "name": "python3",
      "display_name": "Python 3"
    },
    "language_info": {
      "name": "python"
    }
  },
  "cells": [
    {
      "cell_type": "code",
      "execution_count": null,
      "metadata": {
        "colab": {
          "base_uri": "https://localhost:8080/"
        },
        "id": "eSmDvFrKVRg8",
        "outputId": "f4de2b97-1a56-4ba3-faed-142c67192968"
      },
      "outputs": [
        {
          "output_type": "stream",
          "name": "stdout",
          "text": [
            "Mounted at /content/drive\n"
          ]
        }
      ],
      "source": [
        "from google.colab import drive\n",
        "drive.mount('/content/drive')"
      ]
    },
    {
      "cell_type": "markdown",
      "source": [
        "# Data Preprocessing"
      ],
      "metadata": {
        "id": "ScMNovsg95Cg"
      }
    },
    {
      "cell_type": "markdown",
      "source": [
        "## Reduce years range\n"
      ],
      "metadata": {
        "id": "KEWndXCxZ89W"
      }
    },
    {
      "cell_type": "code",
      "source": [
        "import pandas as pd\n",
        "\n",
        "# Load the csv file in a dataframe\n",
        "df = pd.read_csv('/content/Human Development Index - Full.csv')\n",
        "\n",
        "# Strings to match for column names\n",
        "column_strings = ['1990', '1991', '1992', '1993', '1994', '1995', '1996', '1997', '1998', '1999', '2000', '2001', '2002', '2003', '2004', '2005', '2006', '2007', '2008', '2009', '2010']\n",
        "\n",
        "# Get the column names that contain the specified strings\n",
        "to_drop = [col for col in df.columns if any(string in col for string in column_strings)]\n",
        "\n",
        "# Drop the columns\n",
        "df.drop(to_drop, axis=1, inplace=True)\n",
        "\n",
        "# Save the dataframe to a new csv file\n",
        "df.to_csv('new_HDI_full.csv', index=False)"
      ],
      "metadata": {
        "id": "kOXF6FhMVub0"
      },
      "execution_count": null,
      "outputs": []
    },
    {
      "cell_type": "code",
      "source": [
        "print(df.columns)"
      ],
      "metadata": {
        "colab": {
          "base_uri": "https://localhost:8080/"
        },
        "id": "L8KUcLkXYQsz",
        "outputId": "1149a503-6670-475a-cfb7-b1e38695697b"
      },
      "execution_count": null,
      "outputs": [
        {
          "output_type": "stream",
          "name": "stdout",
          "text": [
            "Index(['ISO3', 'Country', 'Human Development Groups',\n",
            "       'UNDP Developing Regions', 'HDI Rank (2021)',\n",
            "       'Human Development Index (2011)', 'Human Development Index (2012)',\n",
            "       'Human Development Index (2013)', 'Human Development Index (2014)',\n",
            "       'Human Development Index (2015)',\n",
            "       ...\n",
            "       'Material footprint per capita (tonnes) (2012)',\n",
            "       'Material footprint per capita (tonnes) (2013)',\n",
            "       'Material footprint per capita (tonnes) (2014)',\n",
            "       'Material footprint per capita (tonnes) (2015)',\n",
            "       'Material footprint per capita (tonnes) (2016)',\n",
            "       'Material footprint per capita (tonnes) (2017)',\n",
            "       'Material footprint per capita (tonnes) (2018)',\n",
            "       'Material footprint per capita (tonnes) (2019)',\n",
            "       'Material footprint per capita (tonnes) (2020)',\n",
            "       'Material footprint per capita (tonnes) (2021)'],\n",
            "      dtype='object', length=349)\n"
          ]
        }
      ]
    },
    {
      "cell_type": "code",
      "source": [
        "print(\"AS Index =\", len(df.columns)*len(df))"
      ],
      "metadata": {
        "colab": {
          "base_uri": "https://localhost:8080/"
        },
        "id": "VtLsfUdHctbk",
        "outputId": "f65202a6-e5e2-4791-b29d-94d932f68ac2"
      },
      "execution_count": null,
      "outputs": [
        {
          "output_type": "stream",
          "name": "stdout",
          "text": [
            "AS Index = 68055\n"
          ]
        }
      ]
    },
    {
      "cell_type": "markdown",
      "source": [
        "# Data refining"
      ],
      "metadata": {
        "id": "KQlRNw_6aKAp"
      }
    },
    {
      "cell_type": "markdown",
      "source": [
        "## Remove all brackets and substitute blank spaces with underscores"
      ],
      "metadata": {
        "id": "_5fKuwG6a1xU"
      }
    },
    {
      "cell_type": "code",
      "source": [
        "import pandas as pd\n",
        "\n",
        "# Load the CSV file into a Pandas DataFrame\n",
        "df = pd.read_csv(\"/content/new_HDI_full.csv\")\n",
        "\n",
        "# Replace spaces in column names with underscores\n",
        "df.columns = df.columns.str.replace(\" \", \"_\")\n",
        "\n",
        "# Remove all brackets from column names\n",
        "df.columns = df.columns.str.replace(\"[()]\", \"\", regex=True)\n",
        "\n",
        "# Save the modified DataFrame to a new CSV file\n",
        "df.to_csv(\"/content/HDI_full_3.csv\", index=False)"
      ],
      "metadata": {
        "id": "UQ8WNeZtaMaP"
      },
      "execution_count": null,
      "outputs": []
    },
    {
      "cell_type": "markdown",
      "source": [
        "## print all columns with year 2021"
      ],
      "metadata": {
        "id": "cph3Cmg6b-u_"
      }
    },
    {
      "cell_type": "code",
      "source": [
        "# Specify the string to search for in the column names\n",
        "search_string = \"2021\"\n",
        "\n",
        "# Get a boolean mask indicating which column names contain the search string\n",
        "mask = df.columns.str.contains(search_string)\n",
        "\n",
        "# Use boolean indexing to select the column names that contain the search string\n",
        "selected_columns = df.columns[mask].str.slice(stop=-4)\n",
        "\n",
        "# Print the selected column names\n",
        "print(selected_columns)"
      ],
      "metadata": {
        "colab": {
          "base_uri": "https://localhost:8080/"
        },
        "id": "WTBLo-qvb-8L",
        "outputId": "992ebf68-4da1-4c45-c471-13e7c98c8458"
      },
      "execution_count": null,
      "outputs": [
        {
          "output_type": "stream",
          "name": "stdout",
          "text": [
            "Index(['HDI_Rank_', 'Human_Development_Index_', 'Life_Expectancy_at_Birth_',\n",
            "       'Expected_Years_of_Schooling_', 'Mean_Years_of_Schooling_',\n",
            "       'Gross_National_Income_Per_Capita_', 'GDI_Group_',\n",
            "       'Gender_Development_Index_', 'HDI_female_',\n",
            "       'Life_Expectancy_at_Birth,_female_',\n",
            "       'Expected_Years_of_Schooling,_female_',\n",
            "       'Mean_Years_of_Schooling,_female_',\n",
            "       'Gross_National_Income_Per_Capita,_female_', 'HDI_male_',\n",
            "       'Life_Expectancy_at_Birth,_male_', 'Expected_Years_of_Schooling,_male_',\n",
            "       'Mean_Years_of_Schooling,_male_',\n",
            "       'Gross_National_Income_Per_Capita,_male_',\n",
            "       'Inequality-adjusted_Human_Development_Index_',\n",
            "       'Coefficient_of_human_inequality_', 'Overall_loss_%_',\n",
            "       'Inequality_in_life_expectancy_', 'Inequality_in_eduation_',\n",
            "       'Inequality_in_income_', 'GII_Rank_', 'Gender_Inequality_Index_',\n",
            "       'Maternal_Mortality_Ratio_deaths_per_100,000_live_births_',\n",
            "       'Adolescent_Birth_Rate_births_per_1,000_women_ages_15-19_',\n",
            "       'Labour_force_participation_rate,_female_%_ages_15_and_older_',\n",
            "       'Labour_force_participation_rate,_male_%_ages_15_and_older_',\n",
            "       'Difference_from_HDI_rank_',\n",
            "       'Planetary_pressures-adjusted_Human_Development_Index_',\n",
            "       'Difference_from_HDI_value_%_',\n",
            "       'Carbon_dioxide_emissions_per_capita_production_tonnes_',\n",
            "       'Material_footprint_per_capita_tonnes_'],\n",
            "      dtype='object')\n"
          ]
        }
      ]
    },
    {
      "cell_type": "code",
      "source": [
        "indexes = ['HDI_Rank_', 'Human_Development_Index_', 'Life_Expectancy_at_Birth_',\n",
        "       'Expected_Years_of_Schooling_', 'Mean_Years_of_Schooling_',\n",
        "       'Gross_National_Income_Per_Capita_', 'Gender_Development_Index_',\n",
        "       'HDI_female_', 'HDI_male_',\n",
        "       'Inequality-adjusted_Human_Development_Index_',\n",
        "       'Coefficient_of_human_inequality_', 'Overall_loss_%_',\n",
        "       'Inequality_in_life_expectancy_', 'Inequality_in_eduation_',\n",
        "       'Inequality_in_income_', 'GII_Rank_', 'Gender_Inequality_Index_']\n",
        "\n",
        "year = 2021\n",
        "\n",
        "# Iterate over the elements in the array\n",
        "for i in indexes:\n",
        "    print(i+str(year))"
      ],
      "metadata": {
        "colab": {
          "base_uri": "https://localhost:8080/"
        },
        "id": "afE1DxTifD4j",
        "outputId": "7eac3eb2-6852-499b-fe1e-0b36841f4f92"
      },
      "execution_count": null,
      "outputs": [
        {
          "output_type": "stream",
          "name": "stdout",
          "text": [
            "HDI_Rank_2021\n",
            "Human_Development_Index_2021\n",
            "Life_Expectancy_at_Birth_2021\n",
            "Expected_Years_of_Schooling_2021\n",
            "Mean_Years_of_Schooling_2021\n",
            "Gross_National_Income_Per_Capita_2021\n",
            "Gender_Development_Index_2021\n",
            "HDI_female_2021\n",
            "HDI_male_2021\n",
            "Inequality-adjusted_Human_Development_Index_2021\n",
            "Coefficient_of_human_inequality_2021\n",
            "Overall_loss_%_2021\n",
            "Inequality_in_life_expectancy_2021\n",
            "Inequality_in_eduation_2021\n",
            "Inequality_in_income_2021\n",
            "GII_Rank_2021\n",
            "Gender_Inequality_Index_2021\n"
          ]
        }
      ]
    },
    {
      "cell_type": "markdown",
      "source": [
        "# Split db by year"
      ],
      "metadata": {
        "id": "52gSNAEE1_6G"
      }
    },
    {
      "cell_type": "code",
      "source": [
        "import pandas as pd\n",
        "\n",
        "# Load the csv file in a dataframe\n",
        "df = pd.read_csv('/content/HDI_full_3.csv')\n",
        "\n",
        "indexes = ['Human_Development_Index', 'Life_Expectancy_at_Birth',\n",
        "           'Expected_Years_of_Schooling', 'Mean_Years_of_Schooling',\n",
        "           'Gross_National_Income_Per_Capita', \n",
        "           'Gender_Development_Index', 'HDI_female', 'HDI_male',\n",
        "           'Inequality-adjusted_Human_Development_Index',\n",
        "           'Coefficient_of_human_inequality', 'Overall_loss_%',\n",
        "           'Inequality_in_life_expectancy', 'Inequality_in_eduation',\n",
        "           'Inequality_in_income', 'Gender_Inequality_Index']\n",
        "\n",
        "'Human_Development_Index_' = 'Life_Expectancy_at_Birth_' + 'Expected_Years_of_Schooling_' + 'Mean_Years_of_Schooling_' + 'Gross_National_Income_Per_Capita_' (+ 'Gender_Development_Index_',)\n",
        "'Gender_Development_Index' = 'HDI_female_' + 'HDI_male_'\n",
        "'Inequality-adjusted_Human_Development_Index_' = 'Coefficient_of_human_inequality_' + 'Overall_loss_%_' + 'Inequality_in_life_expectancy_' + 'Inequality_in_eduation_' + 'Inequality_in_income_' (+ 'Gender_Inequality_Index_')\n",
        "\n",
        "\n",
        "to_remove = ['Coefficient_of_human_inequality_', 'Overall_loss_%_', 'HDI_female_', 'HDI_male_',]\n",
        "\n",
        "indexes = ['Human_Development_Index_', 'Life_Expectancy_at_Birth_',\n",
        "           'Expected_Years_of_Schooling_', 'Mean_Years_of_Schooling_',\n",
        "           'Gross_National_Income_Per_Capita_',\n",
        "\n",
        "           'Gender_Development_Index_', 'HDI_female_', 'HDI_male_',\n",
        "           \n",
        "           'Inequality-adjusted_Human_Development_Index_',   \n",
        "           'Inequality_in_life_expectancy_', 'Inequality_in_eduation_',\n",
        "           'Inequality_in_income_', 'Gender_Inequality_Index_']\n",
        "\n",
        "           \n",
        "data = [[i + str(j) for i in indexes] for j in range(2011, 2022)]\n",
        "\n",
        "print(data)\n",
        "\n",
        "folder_path = \"/content/drive/MyDrive/VA/multidb/\"\n",
        "# Loop over the columns and write each DataFrame to a separate CSV file\n",
        "for i, cols in enumerate(data):\n",
        "    df_part = df[[\"ISO3\",\"Country\",\"Human_Development_Groups\",\"UNDP_Developing_Regions\",\"HDI_Rank_2021\", \"GII_Rank_2021\"] + cols]\n",
        "    df_part.to_csv(folder_path + f\"data_{2011+i}.csv\", index=False)"
      ],
      "metadata": {
        "colab": {
          "base_uri": "https://localhost:8080/"
        },
        "id": "XXShvysP3ZyC",
        "outputId": "e5e1d9ab-4a3e-4a5c-c700-fecd1d1d6891"
      },
      "execution_count": null,
      "outputs": [
        {
          "output_type": "stream",
          "name": "stdout",
          "text": [
            "[['Human_Development_Index_2011', 'Life_Expectancy_at_Birth_2011', 'Expected_Years_of_Schooling_2011', 'Mean_Years_of_Schooling_2011', 'Gross_National_Income_Per_Capita_2011', 'Gender_Development_Index_2011', 'HDI_female_2011', 'HDI_male_2011', 'Inequality-adjusted_Human_Development_Index_2011', 'Coefficient_of_human_inequality_2011', 'Overall_loss_%_2011', 'Inequality_in_life_expectancy_2011', 'Inequality_in_eduation_2011', 'Inequality_in_income_2011', 'Gender_Inequality_Index_2011'], ['Human_Development_Index_2012', 'Life_Expectancy_at_Birth_2012', 'Expected_Years_of_Schooling_2012', 'Mean_Years_of_Schooling_2012', 'Gross_National_Income_Per_Capita_2012', 'Gender_Development_Index_2012', 'HDI_female_2012', 'HDI_male_2012', 'Inequality-adjusted_Human_Development_Index_2012', 'Coefficient_of_human_inequality_2012', 'Overall_loss_%_2012', 'Inequality_in_life_expectancy_2012', 'Inequality_in_eduation_2012', 'Inequality_in_income_2012', 'Gender_Inequality_Index_2012'], ['Human_Development_Index_2013', 'Life_Expectancy_at_Birth_2013', 'Expected_Years_of_Schooling_2013', 'Mean_Years_of_Schooling_2013', 'Gross_National_Income_Per_Capita_2013', 'Gender_Development_Index_2013', 'HDI_female_2013', 'HDI_male_2013', 'Inequality-adjusted_Human_Development_Index_2013', 'Coefficient_of_human_inequality_2013', 'Overall_loss_%_2013', 'Inequality_in_life_expectancy_2013', 'Inequality_in_eduation_2013', 'Inequality_in_income_2013', 'Gender_Inequality_Index_2013'], ['Human_Development_Index_2014', 'Life_Expectancy_at_Birth_2014', 'Expected_Years_of_Schooling_2014', 'Mean_Years_of_Schooling_2014', 'Gross_National_Income_Per_Capita_2014', 'Gender_Development_Index_2014', 'HDI_female_2014', 'HDI_male_2014', 'Inequality-adjusted_Human_Development_Index_2014', 'Coefficient_of_human_inequality_2014', 'Overall_loss_%_2014', 'Inequality_in_life_expectancy_2014', 'Inequality_in_eduation_2014', 'Inequality_in_income_2014', 'Gender_Inequality_Index_2014'], ['Human_Development_Index_2015', 'Life_Expectancy_at_Birth_2015', 'Expected_Years_of_Schooling_2015', 'Mean_Years_of_Schooling_2015', 'Gross_National_Income_Per_Capita_2015', 'Gender_Development_Index_2015', 'HDI_female_2015', 'HDI_male_2015', 'Inequality-adjusted_Human_Development_Index_2015', 'Coefficient_of_human_inequality_2015', 'Overall_loss_%_2015', 'Inequality_in_life_expectancy_2015', 'Inequality_in_eduation_2015', 'Inequality_in_income_2015', 'Gender_Inequality_Index_2015'], ['Human_Development_Index_2016', 'Life_Expectancy_at_Birth_2016', 'Expected_Years_of_Schooling_2016', 'Mean_Years_of_Schooling_2016', 'Gross_National_Income_Per_Capita_2016', 'Gender_Development_Index_2016', 'HDI_female_2016', 'HDI_male_2016', 'Inequality-adjusted_Human_Development_Index_2016', 'Coefficient_of_human_inequality_2016', 'Overall_loss_%_2016', 'Inequality_in_life_expectancy_2016', 'Inequality_in_eduation_2016', 'Inequality_in_income_2016', 'Gender_Inequality_Index_2016'], ['Human_Development_Index_2017', 'Life_Expectancy_at_Birth_2017', 'Expected_Years_of_Schooling_2017', 'Mean_Years_of_Schooling_2017', 'Gross_National_Income_Per_Capita_2017', 'Gender_Development_Index_2017', 'HDI_female_2017', 'HDI_male_2017', 'Inequality-adjusted_Human_Development_Index_2017', 'Coefficient_of_human_inequality_2017', 'Overall_loss_%_2017', 'Inequality_in_life_expectancy_2017', 'Inequality_in_eduation_2017', 'Inequality_in_income_2017', 'Gender_Inequality_Index_2017'], ['Human_Development_Index_2018', 'Life_Expectancy_at_Birth_2018', 'Expected_Years_of_Schooling_2018', 'Mean_Years_of_Schooling_2018', 'Gross_National_Income_Per_Capita_2018', 'Gender_Development_Index_2018', 'HDI_female_2018', 'HDI_male_2018', 'Inequality-adjusted_Human_Development_Index_2018', 'Coefficient_of_human_inequality_2018', 'Overall_loss_%_2018', 'Inequality_in_life_expectancy_2018', 'Inequality_in_eduation_2018', 'Inequality_in_income_2018', 'Gender_Inequality_Index_2018'], ['Human_Development_Index_2019', 'Life_Expectancy_at_Birth_2019', 'Expected_Years_of_Schooling_2019', 'Mean_Years_of_Schooling_2019', 'Gross_National_Income_Per_Capita_2019', 'Gender_Development_Index_2019', 'HDI_female_2019', 'HDI_male_2019', 'Inequality-adjusted_Human_Development_Index_2019', 'Coefficient_of_human_inequality_2019', 'Overall_loss_%_2019', 'Inequality_in_life_expectancy_2019', 'Inequality_in_eduation_2019', 'Inequality_in_income_2019', 'Gender_Inequality_Index_2019'], ['Human_Development_Index_2020', 'Life_Expectancy_at_Birth_2020', 'Expected_Years_of_Schooling_2020', 'Mean_Years_of_Schooling_2020', 'Gross_National_Income_Per_Capita_2020', 'Gender_Development_Index_2020', 'HDI_female_2020', 'HDI_male_2020', 'Inequality-adjusted_Human_Development_Index_2020', 'Coefficient_of_human_inequality_2020', 'Overall_loss_%_2020', 'Inequality_in_life_expectancy_2020', 'Inequality_in_eduation_2020', 'Inequality_in_income_2020', 'Gender_Inequality_Index_2020'], ['Human_Development_Index_2021', 'Life_Expectancy_at_Birth_2021', 'Expected_Years_of_Schooling_2021', 'Mean_Years_of_Schooling_2021', 'Gross_National_Income_Per_Capita_2021', 'Gender_Development_Index_2021', 'HDI_female_2021', 'HDI_male_2021', 'Inequality-adjusted_Human_Development_Index_2021', 'Coefficient_of_human_inequality_2021', 'Overall_loss_%_2021', 'Inequality_in_life_expectancy_2021', 'Inequality_in_eduation_2021', 'Inequality_in_income_2021', 'Gender_Inequality_Index_2021']]\n"
          ]
        }
      ]
    },
    {
      "cell_type": "code",
      "source": [
        "import glob\n",
        "import pandas as pd\n",
        "\n",
        "# specify the path to the CSV files\n",
        "path = \"/content/drive/MyDrive/VA/multidb/*.csv\"\n",
        "substrings_to_remove = ['_2011','_2012','_2013','_2014','_2015','_2016','_2017','_2018','_2019','_2020','_2021']\n",
        "\n",
        "# loop over all CSV files in the path\n",
        "for file in glob.glob(path):\n",
        "    # read the CSV file into a pandas DataFrame\n",
        "    df = pd.read_csv(file)\n",
        "\n",
        "    # Remove the specified substrings from the column names\n",
        "    for substring in substrings_to_remove:\n",
        "        df.columns = df.columns.str.replace(substring, '')\n",
        "    \n",
        "    # save the modified DataFrame back to the original CSV file\n",
        "    df.to_csv(file, index=False)"
      ],
      "metadata": {
        "id": "LJNsKyZLr_V1"
      },
      "execution_count": null,
      "outputs": []
    },
    {
      "cell_type": "code",
      "source": [
        "import pandas as pd\n",
        "import numpy as np\n",
        "import matplotlib.pyplot as plt\n",
        "from sklearn.manifold import MDS\n",
        "from sklearn.preprocessing import MinMaxScaler\n",
        "from sklearn import preprocessing\n",
        "from sklearn.manifold import TSNE\n",
        "\n",
        "\n",
        "# Load data from CSV file\n",
        "data = pd.read_csv('/content/drive/MyDrive/VA/multidb/data_2011.csv')\n",
        "\n",
        "data = data.head(20)\n",
        "\n",
        "# Replace NaN values with column means\n",
        "data = data.fillna(data.mean())\n",
        "\n",
        "# Extract variables to use in MDS analysis\n",
        "X = data[['Life_Expectancy_at_Birth', 'Expected_Years_of_Schooling', 'Mean_Years_of_Schooling',\n",
        "          'Gross_National_Income_Per_Capita']]\n",
        "\n",
        "# Scale the data\n",
        "std_scale = preprocessing.StandardScaler().fit(X)\n",
        "X = std_scale.transform(X) \n",
        "\n",
        "# Compute MDS embedding\n",
        "mds = MDS(n_components=2, dissimilarity='euclidean')\n",
        "X_mds = mds.fit_transform(X)\n",
        "\n",
        "# Get the first column of the dataset\n",
        "labels = data.iloc[:, 1].values\n",
        "\n",
        "# Plot MDS results\n",
        "plt.figure(figsize=(10, 8))\n",
        "plt.scatter(X_mds[:, 0], X_mds[:, 1])\n",
        "for i, label in enumerate(labels):\n",
        "    plt.annotate(label, (X_mds[i, 0], X_mds[i, 1]))\n",
        "plt.title('MDS plot')\n",
        "plt.show() \n"
      ],
      "metadata": {
        "colab": {
          "base_uri": "https://localhost:8080/",
          "height": 554
        },
        "id": "o7EWv5uWDdwr",
        "outputId": "e86d7cad-3dfe-4127-ab19-c41772161d25"
      },
      "execution_count": null,
      "outputs": [
        {
          "output_type": "stream",
          "name": "stderr",
          "text": [
            "<ipython-input-124-d0c59f474acc>:16: FutureWarning: Dropping of nuisance columns in DataFrame reductions (with 'numeric_only=None') is deprecated; in a future version this will raise TypeError.  Select only valid columns before calling the reduction.\n",
            "  data = data.fillna(data.mean())\n"
          ]
        },
        {
          "output_type": "display_data",
          "data": {
            "text/plain": [
              "<Figure size 720x576 with 1 Axes>"
            ],
            "image/png": "[encoded data removed]"
          },
          "metadata": {
            "needs_background": "light"
          }
        }
      ]
    },
    {
      "cell_type": "code",
      "source": [
        "import pandas as pd\n",
        "\n",
        "# Load the CSV file\n",
        "df = pd.read_csv('/content/drive/MyDrive/VA/countryContinent.csv')\n",
        "\n",
        "# Keep only the \"country\" and \"continent\" columns\n",
        "df = df[['country', 'continent']]\n",
        "\n",
        "# Save the new CSV file\n",
        "df.to_csv('country_continent.csv', index=False)\n"
      ],
      "metadata": {
        "colab": {
          "base_uri": "https://localhost:8080/",
          "height": 296
        },
        "id": "i2Z-KyFK2GuA",
        "outputId": "990c9620-25a5-409a-a703-bddec6005ed5"
      },
      "execution_count": null,
      "outputs": [
        {
          "output_type": "error",
          "ename": "UnicodeDecodeError",
          "evalue": "ignored",
          "traceback": [
            "\u001b[0;31m---------------------------------------------------------------------------\u001b[0m",
            "\u001b[0;31mUnicodeDecodeError\u001b[0m                        Traceback (most recent call last)",
            "\u001b[0;32m<ipython-input-66-226359fe3075>\u001b[0m in \u001b[0;36m<module>\u001b[0;34m\u001b[0m\n\u001b[1;32m      2\u001b[0m \u001b[0;34m\u001b[0m\u001b[0m\n\u001b[1;32m      3\u001b[0m \u001b[0;31m# Load the CSV file\u001b[0m\u001b[0;34m\u001b[0m\u001b[0;34m\u001b[0m\u001b[0;34m\u001b[0m\u001b[0m\n\u001b[0;32m----> 4\u001b[0;31m \u001b[0mdf\u001b[0m \u001b[0;34m=\u001b[0m \u001b[0mpd\u001b[0m\u001b[0;34m.\u001b[0m\u001b[0mread_csv\u001b[0m\u001b[0;34m(\u001b[0m\u001b[0;34m'/content/drive/MyDrive/VA/countryContinent.csv'\u001b[0m\u001b[0;34m)\u001b[0m\u001b[0;34m\u001b[0m\u001b[0;34m\u001b[0m\u001b[0m\n\u001b[0m\u001b[1;32m      5\u001b[0m \u001b[0;34m\u001b[0m\u001b[0m\n\u001b[1;32m      6\u001b[0m \u001b[0;31m# Keep only the \"country\" and \"continent\" columns\u001b[0m\u001b[0;34m\u001b[0m\u001b[0;34m\u001b[0m\u001b[0;34m\u001b[0m\u001b[0m\n",
            "\u001b[0;32m/usr/local/lib/python3.8/dist-packages/pandas/util/_decorators.py\u001b[0m in \u001b[0;36mwrapper\u001b[0;34m(*args, **kwargs)\u001b[0m\n\u001b[1;32m    309\u001b[0m                     \u001b[0mstacklevel\u001b[0m\u001b[0;34m=\u001b[0m\u001b[0mstacklevel\u001b[0m\u001b[0;34m,\u001b[0m\u001b[0;34m\u001b[0m\u001b[0;34m\u001b[0m\u001b[0m\n\u001b[1;32m    310\u001b[0m                 )\n\u001b[0;32m--> 311\u001b[0;31m             \u001b[0;32mreturn\u001b[0m \u001b[0mfunc\u001b[0m\u001b[0;34m(\u001b[0m\u001b[0;34m*\u001b[0m\u001b[0margs\u001b[0m\u001b[0;34m,\u001b[0m \u001b[0;34m**\u001b[0m\u001b[0mkwargs\u001b[0m\u001b[0;34m)\u001b[0m\u001b[0;34m\u001b[0m\u001b[0;34m\u001b[0m\u001b[0m\n\u001b[0m\u001b[1;32m    312\u001b[0m \u001b[0;34m\u001b[0m\u001b[0m\n\u001b[1;32m    313\u001b[0m         \u001b[0;32mreturn\u001b[0m \u001b[0mwrapper\u001b[0m\u001b[0;34m\u001b[0m\u001b[0;34m\u001b[0m\u001b[0m\n",
            "\u001b[0;32m/usr/local/lib/python3.8/dist-packages/pandas/io/parsers/readers.py\u001b[0m in \u001b[0;36mread_csv\u001b[0;34m(filepath_or_buffer, sep, delimiter, header, names, index_col, usecols, squeeze, prefix, mangle_dupe_cols, dtype, engine, converters, true_values, false_values, skipinitialspace, skiprows, skipfooter, nrows, na_values, keep_default_na, na_filter, verbose, skip_blank_lines, parse_dates, infer_datetime_format, keep_date_col, date_parser, dayfirst, cache_dates, iterator, chunksize, compression, thousands, decimal, lineterminator, quotechar, quoting, doublequote, escapechar, comment, encoding, encoding_errors, dialect, error_bad_lines, warn_bad_lines, on_bad_lines, delim_whitespace, low_memory, memory_map, float_precision, storage_options)\u001b[0m\n\u001b[1;32m    584\u001b[0m     \u001b[0mkwds\u001b[0m\u001b[0;34m.\u001b[0m\u001b[0mupdate\u001b[0m\u001b[0;34m(\u001b[0m\u001b[0mkwds_defaults\u001b[0m\u001b[0;34m)\u001b[0m\u001b[0;34m\u001b[0m\u001b[0;34m\u001b[0m\u001b[0m\n\u001b[1;32m    585\u001b[0m \u001b[0;34m\u001b[0m\u001b[0m\n\u001b[0;32m--> 586\u001b[0;31m     \u001b[0;32mreturn\u001b[0m \u001b[0m_read\u001b[0m\u001b[0;34m(\u001b[0m\u001b[0mfilepath_or_buffer\u001b[0m\u001b[0;34m,\u001b[0m \u001b[0mkwds\u001b[0m\u001b[0;34m)\u001b[0m\u001b[0;34m\u001b[0m\u001b[0;34m\u001b[0m\u001b[0m\n\u001b[0m\u001b[1;32m    587\u001b[0m \u001b[0;34m\u001b[0m\u001b[0m\n\u001b[1;32m    588\u001b[0m \u001b[0;34m\u001b[0m\u001b[0m\n",
            "\u001b[0;32m/usr/local/lib/python3.8/dist-packages/pandas/io/parsers/readers.py\u001b[0m in \u001b[0;36m_read\u001b[0;34m(filepath_or_buffer, kwds)\u001b[0m\n\u001b[1;32m    480\u001b[0m \u001b[0;34m\u001b[0m\u001b[0m\n\u001b[1;32m    481\u001b[0m     \u001b[0;31m# Create the parser.\u001b[0m\u001b[0;34m\u001b[0m\u001b[0;34m\u001b[0m\u001b[0;34m\u001b[0m\u001b[0m\n\u001b[0;32m--> 482\u001b[0;31m     \u001b[0mparser\u001b[0m \u001b[0;34m=\u001b[0m \u001b[0mTextFileReader\u001b[0m\u001b[0;34m(\u001b[0m\u001b[0mfilepath_or_buffer\u001b[0m\u001b[0;34m,\u001b[0m \u001b[0;34m**\u001b[0m\u001b[0mkwds\u001b[0m\u001b[0;34m)\u001b[0m\u001b[0;34m\u001b[0m\u001b[0;34m\u001b[0m\u001b[0m\n\u001b[0m\u001b[1;32m    483\u001b[0m \u001b[0;34m\u001b[0m\u001b[0m\n\u001b[1;32m    484\u001b[0m     \u001b[0;32mif\u001b[0m \u001b[0mchunksize\u001b[0m \u001b[0;32mor\u001b[0m \u001b[0miterator\u001b[0m\u001b[0;34m:\u001b[0m\u001b[0;34m\u001b[0m\u001b[0;34m\u001b[0m\u001b[0m\n",
            "\u001b[0;32m/usr/local/lib/python3.8/dist-packages/pandas/io/parsers/readers.py\u001b[0m in \u001b[0;36m__init__\u001b[0;34m(self, f, engine, **kwds)\u001b[0m\n\u001b[1;32m    809\u001b[0m             \u001b[0mself\u001b[0m\u001b[0;34m.\u001b[0m\u001b[0moptions\u001b[0m\u001b[0;34m[\u001b[0m\u001b[0;34m\"has_index_names\"\u001b[0m\u001b[0;34m]\u001b[0m \u001b[0;34m=\u001b[0m \u001b[0mkwds\u001b[0m\u001b[0;34m[\u001b[0m\u001b[0;34m\"has_index_names\"\u001b[0m\u001b[0;34m]\u001b[0m\u001b[0;34m\u001b[0m\u001b[0;34m\u001b[0m\u001b[0m\n\u001b[1;32m    810\u001b[0m \u001b[0;34m\u001b[0m\u001b[0m\n\u001b[0;32m--> 811\u001b[0;31m         \u001b[0mself\u001b[0m\u001b[0;34m.\u001b[0m\u001b[0m_engine\u001b[0m \u001b[0;34m=\u001b[0m \u001b[0mself\u001b[0m\u001b[0;34m.\u001b[0m\u001b[0m_make_engine\u001b[0m\u001b[0;34m(\u001b[0m\u001b[0mself\u001b[0m\u001b[0;34m.\u001b[0m\u001b[0mengine\u001b[0m\u001b[0;34m)\u001b[0m\u001b[0;34m\u001b[0m\u001b[0;34m\u001b[0m\u001b[0m\n\u001b[0m\u001b[1;32m    812\u001b[0m \u001b[0;34m\u001b[0m\u001b[0m\n\u001b[1;32m    813\u001b[0m     \u001b[0;32mdef\u001b[0m \u001b[0mclose\u001b[0m\u001b[0;34m(\u001b[0m\u001b[0mself\u001b[0m\u001b[0;34m)\u001b[0m\u001b[0;34m:\u001b[0m\u001b[0;34m\u001b[0m\u001b[0;34m\u001b[0m\u001b[0m\n",
            "\u001b[0;32m/usr/local/lib/python3.8/dist-packages/pandas/io/parsers/readers.py\u001b[0m in \u001b[0;36m_make_engine\u001b[0;34m(self, engine)\u001b[0m\n\u001b[1;32m   1038\u001b[0m             )\n\u001b[1;32m   1039\u001b[0m         \u001b[0;31m# error: Too many arguments for \"ParserBase\"\u001b[0m\u001b[0;34m\u001b[0m\u001b[0;34m\u001b[0m\u001b[0;34m\u001b[0m\u001b[0m\n\u001b[0;32m-> 1040\u001b[0;31m         \u001b[0;32mreturn\u001b[0m \u001b[0mmapping\u001b[0m\u001b[0;34m[\u001b[0m\u001b[0mengine\u001b[0m\u001b[0;34m]\u001b[0m\u001b[0;34m(\u001b[0m\u001b[0mself\u001b[0m\u001b[0;34m.\u001b[0m\u001b[0mf\u001b[0m\u001b[0;34m,\u001b[0m \u001b[0;34m**\u001b[0m\u001b[0mself\u001b[0m\u001b[0;34m.\u001b[0m\u001b[0moptions\u001b[0m\u001b[0;34m)\u001b[0m  \u001b[0;31m# type: ignore[call-arg]\u001b[0m\u001b[0;34m\u001b[0m\u001b[0;34m\u001b[0m\u001b[0m\n\u001b[0m\u001b[1;32m   1041\u001b[0m \u001b[0;34m\u001b[0m\u001b[0m\n\u001b[1;32m   1042\u001b[0m     \u001b[0;32mdef\u001b[0m \u001b[0m_failover_to_python\u001b[0m\u001b[0;34m(\u001b[0m\u001b[0mself\u001b[0m\u001b[0;34m)\u001b[0m\u001b[0;34m:\u001b[0m\u001b[0;34m\u001b[0m\u001b[0;34m\u001b[0m\u001b[0m\n",
            "\u001b[0;32m/usr/local/lib/python3.8/dist-packages/pandas/io/parsers/c_parser_wrapper.py\u001b[0m in \u001b[0;36m__init__\u001b[0;34m(self, src, **kwds)\u001b[0m\n\u001b[1;32m     67\u001b[0m         \u001b[0mkwds\u001b[0m\u001b[0;34m[\u001b[0m\u001b[0;34m\"dtype\"\u001b[0m\u001b[0;34m]\u001b[0m \u001b[0;34m=\u001b[0m \u001b[0mensure_dtype_objs\u001b[0m\u001b[0;34m(\u001b[0m\u001b[0mkwds\u001b[0m\u001b[0;34m.\u001b[0m\u001b[0mget\u001b[0m\u001b[0;34m(\u001b[0m\u001b[0;34m\"dtype\"\u001b[0m\u001b[0;34m,\u001b[0m \u001b[0;32mNone\u001b[0m\u001b[0;34m)\u001b[0m\u001b[0;34m)\u001b[0m\u001b[0;34m\u001b[0m\u001b[0;34m\u001b[0m\u001b[0m\n\u001b[1;32m     68\u001b[0m         \u001b[0;32mtry\u001b[0m\u001b[0;34m:\u001b[0m\u001b[0;34m\u001b[0m\u001b[0;34m\u001b[0m\u001b[0m\n\u001b[0;32m---> 69\u001b[0;31m             \u001b[0mself\u001b[0m\u001b[0;34m.\u001b[0m\u001b[0m_reader\u001b[0m \u001b[0;34m=\u001b[0m \u001b[0mparsers\u001b[0m\u001b[0;34m.\u001b[0m\u001b[0mTextReader\u001b[0m\u001b[0;34m(\u001b[0m\u001b[0mself\u001b[0m\u001b[0;34m.\u001b[0m\u001b[0mhandles\u001b[0m\u001b[0;34m.\u001b[0m\u001b[0mhandle\u001b[0m\u001b[0;34m,\u001b[0m \u001b[0;34m**\u001b[0m\u001b[0mkwds\u001b[0m\u001b[0;34m)\u001b[0m\u001b[0;34m\u001b[0m\u001b[0;34m\u001b[0m\u001b[0m\n\u001b[0m\u001b[1;32m     70\u001b[0m         \u001b[0;32mexcept\u001b[0m \u001b[0mException\u001b[0m\u001b[0;34m:\u001b[0m\u001b[0;34m\u001b[0m\u001b[0;34m\u001b[0m\u001b[0m\n\u001b[1;32m     71\u001b[0m             \u001b[0mself\u001b[0m\u001b[0;34m.\u001b[0m\u001b[0mhandles\u001b[0m\u001b[0;34m.\u001b[0m\u001b[0mclose\u001b[0m\u001b[0;34m(\u001b[0m\u001b[0;34m)\u001b[0m\u001b[0;34m\u001b[0m\u001b[0;34m\u001b[0m\u001b[0m\n",
            "\u001b[0;32m/usr/local/lib/python3.8/dist-packages/pandas/_libs/parsers.pyx\u001b[0m in \u001b[0;36mpandas._libs.parsers.TextReader.__cinit__\u001b[0;34m()\u001b[0m\n",
            "\u001b[0;32m/usr/local/lib/python3.8/dist-packages/pandas/_libs/parsers.pyx\u001b[0m in \u001b[0;36mpandas._libs.parsers.TextReader._get_header\u001b[0;34m()\u001b[0m\n",
            "\u001b[0;32m/usr/local/lib/python3.8/dist-packages/pandas/_libs/parsers.pyx\u001b[0m in \u001b[0;36mpandas._libs.parsers.TextReader._tokenize_rows\u001b[0;34m()\u001b[0m\n",
            "\u001b[0;32m/usr/local/lib/python3.8/dist-packages/pandas/_libs/parsers.pyx\u001b[0m in \u001b[0;36mpandas._libs.parsers.raise_parser_error\u001b[0;34m()\u001b[0m\n",
            "\u001b[0;31mUnicodeDecodeError\u001b[0m: 'utf-8' codec can't decode byte 0xc5 in position 158: invalid continuation byte"
          ]
        }
      ]
    },
    {
      "cell_type": "code",
      "source": [
        "import pandas as pd\n",
        "\n",
        "# Define the list of continent values\n",
        "continent_list = ['Asia', 'Africa', 'Europe', 'Europe', 'Asia', 'South America', 'Asia', 'North America', 'Oceania', 'Europe', 'Asia', 'Africa', 'Europe', 'Africa', 'Africa', 'Asia', 'Europe', 'Asia', 'North America', 'Europe', 'Europe', 'North America', 'South America', 'South America', 'Asia', 'Asia', 'Africa', 'Africa', 'North America', 'Europe', 'South America', 'Asia', 'Africa', 'Africa', 'South America', 'Africa', 'Africa', 'North America', 'North America', 'Africa', 'Africa', 'Europe', 'Europe', 'North America', 'Africa', 'South America', 'Asia', 'Africa', 'Africa', 'Europe', 'Europe', 'Africa', 'Europe', 'Oceania', 'Europe', 'North America', 'Asia', 'Africa', 'Africa', 'Africa', 'Africa', 'Africa', 'Africa', 'Europe', 'North America', 'Europe', 'Europe', 'Africa', 'Europe', 'Africa', 'Europe', 'Oceania', 'Europe', 'Africa', 'Europe', 'Europe', 'North America', 'South America', 'Asia', 'Central America', 'Europe', 'Asia', 'Europe', 'South America', 'North America', 'Africa', 'South America', 'Asia', 'Asia', 'Europe', 'Asia', 'Europe', 'North America', 'Asia', 'Europe', 'Europe', 'Asia', 'Asia', 'Europe', 'North America', 'Asia', 'Asia', 'Europe', 'Europe', 'North America', 'Oceania', 'Europe', 'Africa', 'Asia', 'North America', 'Europe', 'Africa', 'Africa', 'Africa', 'Oceania', 'Africa', 'Europe', 'Asia', 'Europe', 'Asia', 'Africa', 'Africa', 'North America', 'Europe', 'Asia', 'Europe', 'Africa', 'Europe', 'Oceania', 'Asia', 'Africa', 'Europe', 'Europe', 'Africa', 'Asia', 'North America', 'Europe', 'Oceania', 'Asia', 'Asia', 'Africa', 'Africa', 'Africa', 'Asia', 'Asia', 'Oceania', 'Asia', 'Europe', 'North America', 'Asia', 'South America', 'Asia', 'Europe', 'Africa', 'Africa', 'South America', 'Europe', 'Africa', 'Asia', 'Africa', 'Asia', 'Africa', 'Europe', 'Africa', 'North America', 'Asia', 'North America', 'Europe', 'Oceania', 'North America', 'South America', 'Oceania', 'Africa', 'Africa']\n",
        "\n",
        "# Create a new column 'Continent' with the continent_list values\n",
        "x_mds['Continent'] = continent_list\n",
        "\n",
        "# View the updated DataFrame\n",
        "print(x_mds.head())\n"
      ],
      "metadata": {
        "colab": {
          "base_uri": "https://localhost:8080/"
        },
        "id": "RGwY0sQX3OQW",
        "outputId": "d03e5538-f08b-4a43-d14f-29019d6e8f09"
      },
      "execution_count": null,
      "outputs": [
        {
          "output_type": "stream",
          "name": "stdout",
          "text": [
            "['Afghanistan' 'Angola' 'Albania' 'Andorra' 'United Arab Emirates'\n",
            " 'Argentina' 'Armenia' 'Antigua and Barbuda' 'Australia' 'Austria'\n",
            " 'Azerbaijan' 'Burundi' 'Belgium' 'Benin' 'Burkina Faso' 'Bangladesh'\n",
            " 'Bulgaria' 'Bahrain' 'Bahamas' 'Bosnia and Herzegovina' 'Belarus'\n",
            " 'Belize' 'Bolivia' 'Brazil' 'Barbados' 'Brunei' 'Bhutan' 'Botswana'\n",
            " 'Central African Republic' 'Canada' 'Switzerland' 'Chile' 'China'\n",
            " 'Ivory Coast' 'Cameroon' 'The Democratic Republic of the Congo' 'Congo'\n",
            " 'Colombia' 'Comoros' 'Cabo Verde' 'Costa Rica' 'Cuba' 'Cyprus' 'Czechia'\n",
            " 'Germany' 'Djibouti' 'Dominica' 'Denmark' 'Dominican Republic' 'Algeria'\n",
            " 'Ecuador' 'Egypt' 'Eritrea' 'Spain' 'Estonia' 'Ethiopia' 'Finland' 'Fiji'\n",
            " 'France' 'Micronesia' 'Gabon' 'United Kingdom' 'Georgia' 'Ghana' 'Guinea'\n",
            " 'Gambia' 'Guinea-Bissau' 'Equatorial Guinea' 'Greece' 'Grenada'\n",
            " 'Guatemala' 'Guyana' 'Hong Kong' 'Honduras' 'Croatia' 'Haiti' 'Hungary'\n",
            " 'Indonesia' 'India' 'Ireland' 'Iran' 'Iraq' 'Iceland' 'Israel' 'Italy'\n",
            " 'Jamaica' 'Jordan' 'Japan' 'Kazakhstan' 'Kenya' 'Kyrgyzstan' 'Cambodia'\n",
            " 'Kiribati' 'Saint Kitts and Nevis' 'South Korea' 'Kuwait' 'Lao' 'Lebanon'\n",
            " 'Liberia' 'Libya' 'Saint Lucia' 'Liechtenstein' 'Sri Lanka' 'Lesotho'\n",
            " 'Lithuania' 'Luxembourg' 'Latvia' 'Morocco' 'Monaco' 'Moldova'\n",
            " 'Madagascar' 'Maldives' 'Mexico' 'Marshall Islands' 'North Macedonia'\n",
            " 'Mali' 'Malta' 'Myanmar' 'Montenegro' 'Mongolia' 'Mozambique'\n",
            " 'Mauritania' 'Mauritius' 'Malawi' 'Malaysia' 'Namibia' 'Niger' 'Nigeria'\n",
            " 'Nicaragua' 'Netherlands' 'Norway' 'Nepal' 'Nauru' 'New Zealand' 'Oman'\n",
            " 'Pakistan' 'Panama' 'Peru' 'Philippines' 'Palau' 'Papua New Guinea'\n",
            " 'Poland' 'North Korea' 'Portugal' 'Paraguay' 'Palestine, State of'\n",
            " 'Qatar' 'Romania' 'Russian Federation' 'Rwanda' 'Saudi Arabia' 'Sudan'\n",
            " 'Senegal' 'Singapore' 'Solomon Islands' 'Sierra Leone' 'El Salvador'\n",
            " 'San Marino' 'Somalia' 'Serbia' 'South Sudan' 'Sao Tome and Principe'\n",
            " 'Suriname' 'Slovakia' 'Slovenia' 'Sweden' 'Eswatini' 'Seychelles'\n",
            " 'Syrian Arab Republic' 'Chad' 'Togo' 'Thailand' 'Tajikistan'\n",
            " 'Turkmenistan' 'Timor-Leste' 'Tonga' 'Trinidad and Tobago' 'Tunisia'\n",
            " 'Turkey' 'Tuvalu' 'Tanzania' 'Uganda' 'Ukraine' 'Uruguay' 'United States'\n",
            " 'Uzbekistan' 'Saint Vincent and the Grenadines' 'Venezuela' 'Viet Nam'\n",
            " 'Vanuatu' 'Samoa' 'Yemen' 'South Africa' 'Zambia' 'Zimbabwe']\n"
          ]
        }
      ]
    },
    {
      "cell_type": "code",
      "source": [
        "!pip install pycountry-convert"
      ],
      "metadata": {
        "colab": {
          "base_uri": "https://localhost:8080/"
        },
        "id": "L-eR72mX8Ma1",
        "outputId": "7f15650d-8a6a-4fdc-ff2b-2a5f64571c46"
      },
      "execution_count": null,
      "outputs": [
        {
          "output_type": "stream",
          "name": "stdout",
          "text": [
            "Looking in indexes: https://pypi.org/simple, https://us-python.pkg.dev/colab-wheels/public/simple/\n",
            "Collecting pycountry-convert\n",
            "  Downloading pycountry_convert-0.7.2-py3-none-any.whl (13 kB)\n",
            "Collecting repoze.lru>=0.7\n",
            "  Downloading repoze.lru-0.7-py3-none-any.whl (10 kB)\n",
            "Collecting pprintpp>=0.3.0\n",
            "  Downloading pprintpp-0.4.0-py2.py3-none-any.whl (16 kB)\n",
            "Collecting pytest-cov>=2.5.1\n",
            "  Downloading pytest_cov-4.0.0-py3-none-any.whl (21 kB)\n",
            "Requirement already satisfied: pytest>=3.4.0 in /usr/local/lib/python3.8/dist-packages (from pycountry-convert) (3.6.4)\n",
            "Collecting pytest-mock>=1.6.3\n",
            "  Downloading pytest_mock-3.10.0-py3-none-any.whl (9.3 kB)\n",
            "Collecting pycountry>=16.11.27.1\n",
            "  Downloading pycountry-22.3.5.tar.gz (10.1 MB)\n",
            "\u001b[2K     \u001b[90m━━━━━━━━━━━━━━━━━━━━━━━━━━━━━━━━━━━━━━━━\u001b[0m \u001b[32m10.1/10.1 MB\u001b[0m \u001b[31m49.8 MB/s\u001b[0m eta \u001b[36m0:00:00\u001b[0m\n",
            "\u001b[?25h  Installing build dependencies ... \u001b[?25l\u001b[?25hdone\n",
            "  Getting requirements to build wheel ... \u001b[?25l\u001b[?25hdone\n",
            "  Preparing metadata (pyproject.toml) ... \u001b[?25l\u001b[?25hdone\n",
            "Requirement already satisfied: wheel>=0.30.0 in /usr/local/lib/python3.8/dist-packages (from pycountry-convert) (0.38.4)\n",
            "Requirement already satisfied: setuptools in /usr/local/lib/python3.8/dist-packages (from pycountry>=16.11.27.1->pycountry-convert) (57.4.0)\n",
            "Requirement already satisfied: pluggy<0.8,>=0.5 in /usr/local/lib/python3.8/dist-packages (from pytest>=3.4.0->pycountry-convert) (0.7.1)\n",
            "Requirement already satisfied: py>=1.5.0 in /usr/local/lib/python3.8/dist-packages (from pytest>=3.4.0->pycountry-convert) (1.11.0)\n",
            "Requirement already satisfied: six>=1.10.0 in /usr/local/lib/python3.8/dist-packages (from pytest>=3.4.0->pycountry-convert) (1.15.0)\n",
            "Requirement already satisfied: more-itertools>=4.0.0 in /usr/local/lib/python3.8/dist-packages (from pytest>=3.4.0->pycountry-convert) (9.0.0)\n",
            "Requirement already satisfied: atomicwrites>=1.0 in /usr/local/lib/python3.8/dist-packages (from pytest>=3.4.0->pycountry-convert) (1.4.1)\n",
            "Requirement already satisfied: attrs>=17.4.0 in /usr/local/lib/python3.8/dist-packages (from pytest>=3.4.0->pycountry-convert) (22.2.0)\n",
            "Collecting coverage[toml]>=5.2.1\n",
            "  Downloading coverage-7.1.0-cp38-cp38-manylinux_2_5_x86_64.manylinux1_x86_64.manylinux_2_17_x86_64.manylinux2014_x86_64.whl (227 kB)\n",
            "\u001b[2K     \u001b[90m━━━━━━━━━━━━━━━━━━━━━━━━━━━━━━━━━━━━━━\u001b[0m \u001b[32m227.8/227.8 KB\u001b[0m \u001b[31m23.7 MB/s\u001b[0m eta \u001b[36m0:00:00\u001b[0m\n",
            "\u001b[?25hCollecting pytest>=3.4.0\n",
            "  Downloading pytest-7.2.1-py3-none-any.whl (317 kB)\n",
            "\u001b[2K     \u001b[90m━━━━━━━━━━━━━━━━━━━━━━━━━━━━━━━━━━━━━━\u001b[0m \u001b[32m317.1/317.1 KB\u001b[0m \u001b[31m35.0 MB/s\u001b[0m eta \u001b[36m0:00:00\u001b[0m\n",
            "\u001b[?25hCollecting iniconfig\n",
            "  Downloading iniconfig-2.0.0-py3-none-any.whl (5.9 kB)\n",
            "Requirement already satisfied: packaging in /usr/local/lib/python3.8/dist-packages (from pytest>=3.4.0->pycountry-convert) (23.0)\n",
            "Collecting exceptiongroup>=1.0.0rc8\n",
            "  Downloading exceptiongroup-1.1.0-py3-none-any.whl (14 kB)\n",
            "Requirement already satisfied: tomli>=1.0.0 in /usr/local/lib/python3.8/dist-packages (from pytest>=3.4.0->pycountry-convert) (2.0.1)\n",
            "Collecting pytest>=3.4.0\n",
            "  Downloading pytest-7.2.0-py3-none-any.whl (316 kB)\n",
            "\u001b[2K     \u001b[90m━━━━━━━━━━━━━━━━━━━━━━━━━━━━━━━━━━━━━━\u001b[0m \u001b[32m316.8/316.8 KB\u001b[0m \u001b[31m34.1 MB/s\u001b[0m eta \u001b[36m0:00:00\u001b[0m\n",
            "\u001b[?25h  Downloading pytest-7.1.3-py3-none-any.whl (298 kB)\n",
            "\u001b[2K     \u001b[90m━━━━━━━━━━━━━━━━━━━━━━━━━━━━━━━━━━━━━━\u001b[0m \u001b[32m298.2/298.2 KB\u001b[0m \u001b[31m31.7 MB/s\u001b[0m eta \u001b[36m0:00:00\u001b[0m\n",
            "\u001b[?25h  Downloading pytest-7.1.2-py3-none-any.whl (297 kB)\n",
            "\u001b[2K     \u001b[90m━━━━━━━━━━━━━━━━━━━━━━━━━━━━━━━━━━━━━━\u001b[0m \u001b[32m297.0/297.0 KB\u001b[0m \u001b[31m31.6 MB/s\u001b[0m eta \u001b[36m0:00:00\u001b[0m\n",
            "\u001b[?25h  Downloading pytest-7.1.1-py3-none-any.whl (297 kB)\n",
            "\u001b[2K     \u001b[90m━━━━━━━━━━━━━━━━━━━━━━━━━━━━━━━━━━━━━━\u001b[0m \u001b[32m297.0/297.0 KB\u001b[0m \u001b[31m31.9 MB/s\u001b[0m eta \u001b[36m0:00:00\u001b[0m\n",
            "\u001b[?25h  Downloading pytest-7.1.0-py3-none-any.whl (297 kB)\n",
            "\u001b[2K     \u001b[90m━━━━━━━━━━━━━━━━━━━━━━━━━━━━━━━━━━━━━━\u001b[0m \u001b[32m297.0/297.0 KB\u001b[0m \u001b[31m28.3 MB/s\u001b[0m eta \u001b[36m0:00:00\u001b[0m\n",
            "\u001b[?25h  Downloading pytest-7.0.1-py3-none-any.whl (296 kB)\n",
            "\u001b[2K     \u001b[90m━━━━━━━━━━━━━━━━━━━━━━━━━━━━━━━━━━━━━━\u001b[0m \u001b[32m297.0/297.0 KB\u001b[0m \u001b[31m31.1 MB/s\u001b[0m eta \u001b[36m0:00:00\u001b[0m\n",
            "\u001b[?25h  Downloading pytest-7.0.0-py3-none-any.whl (296 kB)\n",
            "\u001b[2K     \u001b[90m━━━━━━━━━━━━━━━━━━━━━━━━━━━━━━━━━━━━━━\u001b[0m \u001b[32m296.5/296.5 KB\u001b[0m \u001b[31m31.7 MB/s\u001b[0m eta \u001b[36m0:00:00\u001b[0m\n",
            "\u001b[?25h  Downloading pytest-6.2.5-py3-none-any.whl (280 kB)\n",
            "\u001b[2K     \u001b[90m━━━━━━━━━━━━━━━━━━━━━━━━━━━━━━━━━━━━━━\u001b[0m \u001b[32m280.7/280.7 KB\u001b[0m \u001b[31m29.8 MB/s\u001b[0m eta \u001b[36m0:00:00\u001b[0m\n",
            "\u001b[?25hRequirement already satisfied: toml in /usr/local/lib/python3.8/dist-packages (from pytest>=3.4.0->pycountry-convert) (0.10.2)\n",
            "  Downloading pytest-6.2.4-py3-none-any.whl (280 kB)\n",
            "\u001b[2K     \u001b[90m━━━━━━━━━━━━━━━━━━━━━━━━━━━━━━━━━━━━━━\u001b[0m \u001b[32m280.6/280.6 KB\u001b[0m \u001b[31m30.7 MB/s\u001b[0m eta \u001b[36m0:00:00\u001b[0m\n",
            "\u001b[?25h  Downloading pytest-6.2.3-py3-none-any.whl (280 kB)\n",
            "\u001b[2K     \u001b[90m━━━━━━━━━━━━━━━━━━━━━━━━━━━━━━━━━━━━━━\u001b[0m \u001b[32m280.5/280.5 KB\u001b[0m \u001b[31m30.0 MB/s\u001b[0m eta \u001b[36m0:00:00\u001b[0m\n",
            "\u001b[?25h  Downloading pytest-6.2.2-py3-none-any.whl (280 kB)\n",
            "\u001b[2K     \u001b[90m━━━━━━━━━━━━━━━━━━━━━━━━━━━━━━━━━━━━━━\u001b[0m \u001b[32m280.1/280.1 KB\u001b[0m \u001b[31m29.2 MB/s\u001b[0m eta \u001b[36m0:00:00\u001b[0m\n",
            "\u001b[?25h  Downloading pytest-6.2.1-py3-none-any.whl (279 kB)\n",
            "\u001b[2K     \u001b[90m━━━━━━━━━━━━━━━━━━━━━━━━━━━━━━━━━━━━━━\u001b[0m \u001b[32m279.9/279.9 KB\u001b[0m \u001b[31m31.0 MB/s\u001b[0m eta \u001b[36m0:00:00\u001b[0m\n",
            "\u001b[?25h  Downloading pytest-6.2.0-py3-none-any.whl (279 kB)\n",
            "\u001b[2K     \u001b[90m━━━━━━━━━━━━━━━━━━━━━━━━━━━━━━━━━━━━━━\u001b[0m \u001b[32m279.6/279.6 KB\u001b[0m \u001b[31m28.6 MB/s\u001b[0m eta \u001b[36m0:00:00\u001b[0m\n",
            "\u001b[?25h  Downloading pytest-6.1.2-py3-none-any.whl (272 kB)\n",
            "\u001b[2K     \u001b[90m━━━━━━━━━━━━━━━━━━━━━━━━━━━━━━━━━━━━━━\u001b[0m \u001b[32m272.4/272.4 KB\u001b[0m \u001b[31m26.8 MB/s\u001b[0m eta \u001b[36m0:00:00\u001b[0m\n",
            "\u001b[?25h  Downloading pytest-6.1.1-py3-none-any.whl (272 kB)\n",
            "\u001b[2K     \u001b[90m━━━━━━━━━━━━━━━━━━━━━━━━━━━━━━━━━━━━━━\u001b[0m \u001b[32m272.2/272.2 KB\u001b[0m \u001b[31m29.5 MB/s\u001b[0m eta \u001b[36m0:00:00\u001b[0m\n",
            "\u001b[?25h  Downloading pytest-6.1.0-py3-none-any.whl (272 kB)\n",
            "\u001b[2K     \u001b[90m━━━━━━━━━━━━━━━━━━━━━━━━━━━━━━━━━━━━━━\u001b[0m \u001b[32m272.3/272.3 KB\u001b[0m \u001b[31m28.4 MB/s\u001b[0m eta \u001b[36m0:00:00\u001b[0m\n",
            "\u001b[?25h  Downloading pytest-6.0.2-py3-none-any.whl (270 kB)\n",
            "\u001b[2K     \u001b[90m━━━━━━━━━━━━━━━━━━━━━━━━━━━━━━━━━━━━━━\u001b[0m \u001b[32m270.8/270.8 KB\u001b[0m \u001b[31m29.0 MB/s\u001b[0m eta \u001b[36m0:00:00\u001b[0m\n",
            "\u001b[?25h  Downloading pytest-6.0.1-py3-none-any.whl (270 kB)\n",
            "\u001b[2K     \u001b[90m━━━━━━━━━━━━━━━━━━━━━━━━━━━━━━━━━━━━━━\u001b[0m \u001b[32m270.6/270.6 KB\u001b[0m \u001b[31m26.2 MB/s\u001b[0m eta \u001b[36m0:00:00\u001b[0m\n",
            "\u001b[?25h  Downloading pytest-6.0.0-py3-none-any.whl (270 kB)\n",
            "\u001b[2K     \u001b[90m━━━━━━━━━━━━━━━━━━━━━━━━━━━━━━━━━━━━━━\u001b[0m \u001b[32m270.6/270.6 KB\u001b[0m \u001b[31m25.9 MB/s\u001b[0m eta \u001b[36m0:00:00\u001b[0m\n",
            "\u001b[?25h  Downloading pytest-5.4.3-py3-none-any.whl (248 kB)\n",
            "\u001b[2K     \u001b[90m━━━━━━━━━━━━━━━━━━━━━━━━━━━━━━━━━━━━━━\u001b[0m \u001b[32m248.1/248.1 KB\u001b[0m \u001b[31m25.5 MB/s\u001b[0m eta \u001b[36m0:00:00\u001b[0m\n",
            "\u001b[?25h  Downloading pytest-5.4.2-py3-none-any.whl (247 kB)\n",
            "\u001b[2K     \u001b[90m━━━━━━━━━━━━━━━━━━━━━━━━━━━━━━━━━━━━━━\u001b[0m \u001b[32m247.4/247.4 KB\u001b[0m \u001b[31m26.1 MB/s\u001b[0m eta \u001b[36m0:00:00\u001b[0m\n",
            "\u001b[?25h  Downloading pytest-5.4.1-py3-none-any.whl (246 kB)\n",
            "\u001b[2K     \u001b[90m━━━━━━━━━━━━━━━━━━━━━━━━━━━━━━━━━━━━━━\u001b[0m \u001b[32m246.7/246.7 KB\u001b[0m \u001b[31m21.7 MB/s\u001b[0m eta \u001b[36m0:00:00\u001b[0m\n",
            "\u001b[?25h  Downloading pytest-5.4.0-py3-none-any.whl (247 kB)\n",
            "\u001b[2K     \u001b[90m━━━━━━━━━━━━━━━━━━━━━━━━━━━━━━━━━━━━━━\u001b[0m \u001b[32m247.0/247.0 KB\u001b[0m \u001b[31m26.3 MB/s\u001b[0m eta \u001b[36m0:00:00\u001b[0m\n",
            "\u001b[?25h  Downloading pytest-5.3.5-py3-none-any.whl (235 kB)\n",
            "\u001b[2K     \u001b[90m━━━━━━━━━━━━━━━━━━━━━━━━━━━━━━━━━━━━━━\u001b[0m \u001b[32m235.2/235.2 KB\u001b[0m \u001b[31m25.0 MB/s\u001b[0m eta \u001b[36m0:00:00\u001b[0m\n",
            "\u001b[?25h  Downloading pytest-5.3.4-py3-none-any.whl (235 kB)\n",
            "\u001b[2K     \u001b[90m━━━━━━━━━━━━━━━━━━━━━━━━━━━━━━━━━━━━━━\u001b[0m \u001b[32m235.3/235.3 KB\u001b[0m \u001b[31m26.6 MB/s\u001b[0m eta \u001b[36m0:00:00\u001b[0m\n",
            "\u001b[?25h  Downloading pytest-5.3.3-py3-none-any.whl (235 kB)\n",
            "\u001b[2K     \u001b[90m━━━━━━━━━━━━━━━━━━━━━━━━━━━━━━━━━━━━━━\u001b[0m \u001b[32m235.5/235.5 KB\u001b[0m \u001b[31m25.3 MB/s\u001b[0m eta \u001b[36m0:00:00\u001b[0m\n",
            "\u001b[?25h  Downloading pytest-5.3.2-py3-none-any.whl (234 kB)\n",
            "\u001b[2K     \u001b[90m━━━━━━━━━━━━━━━━━━━━━━━━━━━━━━━━━━━━━━\u001b[0m \u001b[32m234.5/234.5 KB\u001b[0m \u001b[31m23.9 MB/s\u001b[0m eta \u001b[36m0:00:00\u001b[0m\n",
            "\u001b[?25h  Downloading pytest-5.3.1-py3-none-any.whl (233 kB)\n",
            "\u001b[2K     \u001b[90m━━━━━━━━━━━━━━━━━━━━━━━━━━━━━━━━━━━━━━\u001b[0m \u001b[32m233.9/233.9 KB\u001b[0m \u001b[31m27.1 MB/s\u001b[0m eta \u001b[36m0:00:00\u001b[0m\n",
            "\u001b[?25h  Downloading pytest-5.3.0-py3-none-any.whl (233 kB)\n",
            "\u001b[2K     \u001b[90m━━━━━━━━━━━━━━━━━━━━━━━━━━━━━━━━━━━━━━\u001b[0m \u001b[32m233.7/233.7 KB\u001b[0m \u001b[31m25.9 MB/s\u001b[0m eta \u001b[36m0:00:00\u001b[0m\n",
            "\u001b[?25h  Downloading pytest-5.2.4-py3-none-any.whl (227 kB)\n",
            "\u001b[2K     \u001b[90m━━━━━━━━━━━━━━━━━━━━━━━━━━━━━━━━━━━━━━\u001b[0m \u001b[32m227.4/227.4 KB\u001b[0m \u001b[31m26.6 MB/s\u001b[0m eta \u001b[36m0:00:00\u001b[0m\n",
            "\u001b[?25h  Downloading pytest-5.2.3-py3-none-any.whl (227 kB)\n",
            "\u001b[2K     \u001b[90m━━━━━━━━━━━━━━━━━━━━━━━━━━━━━━━━━━━━━━\u001b[0m \u001b[32m227.4/227.4 KB\u001b[0m \u001b[31m23.1 MB/s\u001b[0m eta \u001b[36m0:00:00\u001b[0m\n",
            "\u001b[?25h  Downloading pytest-5.2.2-py3-none-any.whl (227 kB)\n",
            "\u001b[2K     \u001b[90m━━━━━━━━━━━━━━━━━━━━━━━━━━━━━━━━━━━━━━\u001b[0m \u001b[32m227.3/227.3 KB\u001b[0m \u001b[31m27.6 MB/s\u001b[0m eta \u001b[36m0:00:00\u001b[0m\n",
            "\u001b[?25h  Downloading pytest-5.2.1-py3-none-any.whl (226 kB)\n",
            "\u001b[2K     \u001b[90m━━━━━━━━━━━━━━━━━━━━━━━━━━━━━━━━━━━━━━\u001b[0m \u001b[32m226.8/226.8 KB\u001b[0m \u001b[31m25.5 MB/s\u001b[0m eta \u001b[36m0:00:00\u001b[0m\n",
            "\u001b[?25h  Downloading pytest-5.2.0-py3-none-any.whl (226 kB)\n",
            "\u001b[2K     \u001b[90m━━━━━━━━━━━━━━━━━━━━━━━━━━━━━━━━━━━━━━\u001b[0m \u001b[32m226.7/226.7 KB\u001b[0m \u001b[31m25.0 MB/s\u001b[0m eta \u001b[36m0:00:00\u001b[0m\n",
            "\u001b[?25h  Downloading pytest-5.1.3-py3-none-any.whl (224 kB)\n",
            "\u001b[2K     \u001b[90m━━━━━━━━━━━━━━━━━━━━━━━━━━━━━━━━━━━━━━\u001b[0m \u001b[32m224.1/224.1 KB\u001b[0m \u001b[31m24.2 MB/s\u001b[0m eta \u001b[36m0:00:00\u001b[0m\n",
            "\u001b[?25h  Downloading pytest-5.1.2-py3-none-any.whl (224 kB)\n",
            "\u001b[2K     \u001b[90m━━━━━━━━━━━━━━━━━━━━━━━━━━━━━━━━━━━━━━\u001b[0m \u001b[32m224.2/224.2 KB\u001b[0m \u001b[31m23.5 MB/s\u001b[0m eta \u001b[36m0:00:00\u001b[0m\n",
            "\u001b[?25h  Downloading pytest-5.1.1-py3-none-any.whl (223 kB)\n",
            "\u001b[2K     \u001b[90m━━━━━━━━━━━━━━━━━━━━━━━━━━━━━━━━━━━━━━\u001b[0m \u001b[32m223.6/223.6 KB\u001b[0m \u001b[31m28.2 MB/s\u001b[0m eta \u001b[36m0:00:00\u001b[0m\n",
            "\u001b[?25h  Downloading pytest-5.1.0-py3-none-any.whl (223 kB)\n",
            "\u001b[2K     \u001b[90m━━━━━━━━━━━━━━━━━━━━━━━━━━━━━━━━━━━━━━\u001b[0m \u001b[32m223.6/223.6 KB\u001b[0m \u001b[31m25.7 MB/s\u001b[0m eta \u001b[36m0:00:00\u001b[0m\n",
            "\u001b[?25h  Downloading pytest-5.0.1-py3-none-any.whl (221 kB)\n",
            "\u001b[2K     \u001b[90m━━━━━━━━━━━━━━━━━━━━━━━━━━━━━━━━━━━━━━\u001b[0m \u001b[32m221.8/221.8 KB\u001b[0m \u001b[31m27.0 MB/s\u001b[0m eta \u001b[36m0:00:00\u001b[0m\n",
            "\u001b[?25hRequirement already satisfied: importlib-metadata>=0.12 in /usr/local/lib/python3.8/dist-packages (from pytest>=3.4.0->pycountry-convert) (6.0.0)\n",
            "  Downloading pytest-5.0.0-py3-none-any.whl (221 kB)\n",
            "\u001b[2K     \u001b[90m━━━━━━━━━━━━━━━━━━━━━━━━━━━━━━━━━━━━━━\u001b[0m \u001b[32m221.8/221.8 KB\u001b[0m \u001b[31m24.6 MB/s\u001b[0m eta \u001b[36m0:00:00\u001b[0m\n",
            "\u001b[?25h  Downloading pytest-4.6.11-py2.py3-none-any.whl (231 kB)\n",
            "\u001b[2K     \u001b[90m━━━━━━━━━━━━━━━━━━━━━━━━━━━━━━━━━━━━━━\u001b[0m \u001b[32m231.6/231.6 KB\u001b[0m \u001b[31m20.5 MB/s\u001b[0m eta \u001b[36m0:00:00\u001b[0m\n",
            "\u001b[?25h  Downloading pytest-4.6.10-py2.py3-none-any.whl (231 kB)\n",
            "\u001b[2K     \u001b[90m━━━━━━━━━━━━━━━━━━━━━━━━━━━━━━━━━━━━━━\u001b[0m \u001b[32m231.6/231.6 KB\u001b[0m \u001b[31m26.4 MB/s\u001b[0m eta \u001b[36m0:00:00\u001b[0m\n",
            "\u001b[?25h  Downloading pytest-4.6.9-py2.py3-none-any.whl (231 kB)\n",
            "\u001b[2K     \u001b[90m━━━━━━━━━━━━━━━━━━━━━━━━━━━━━━━━━━━━━━\u001b[0m \u001b[32m231.1/231.1 KB\u001b[0m \u001b[31m24.9 MB/s\u001b[0m eta \u001b[36m0:00:00\u001b[0m\n",
            "\u001b[?25h  Downloading pytest-4.6.8-py2.py3-none-any.whl (230 kB)\n",
            "\u001b[2K     \u001b[90m━━━━━━━━━━━━━━━━━━━━━━━━━━━━━━━━━━━━━━\u001b[0m \u001b[32m230.5/230.5 KB\u001b[0m \u001b[31m25.2 MB/s\u001b[0m eta \u001b[36m0:00:00\u001b[0m\n",
            "\u001b[?25h  Downloading pytest-4.6.7-py2.py3-none-any.whl (230 kB)\n",
            "\u001b[2K     \u001b[90m━━━━━━━━━━━━━━━━━━━━━━━━━━━━━━━━━━━━━━\u001b[0m \u001b[32m230.4/230.4 KB\u001b[0m \u001b[31m22.8 MB/s\u001b[0m eta \u001b[36m0:00:00\u001b[0m\n",
            "\u001b[?25h  Downloading pytest-4.6.6-py2.py3-none-any.whl (230 kB)\n",
            "\u001b[2K     \u001b[90m━━━━━━━━━━━━━━━━━━━━━━━━━━━━━━━━━━━━━━\u001b[0m \u001b[32m230.2/230.2 KB\u001b[0m \u001b[31m25.0 MB/s\u001b[0m eta \u001b[36m0:00:00\u001b[0m\n",
            "\u001b[?25h  Downloading pytest-4.6.5-py2.py3-none-any.whl (230 kB)\n",
            "\u001b[2K     \u001b[90m━━━━━━━━━━━━━━━━━━━━━━━━━━━━━━━━━━━━━━\u001b[0m \u001b[32m230.1/230.1 KB\u001b[0m \u001b[31m28.0 MB/s\u001b[0m eta \u001b[36m0:00:00\u001b[0m\n",
            "\u001b[?25h  Downloading pytest-4.6.4-py2.py3-none-any.whl (229 kB)\n",
            "\u001b[2K     \u001b[90m━━━━━━━━━━━━━━━━━━━━━━━━━━━━━━━━━━━━━━\u001b[0m \u001b[32m229.6/229.6 KB\u001b[0m \u001b[31m24.9 MB/s\u001b[0m eta \u001b[36m0:00:00\u001b[0m\n",
            "\u001b[?25h  Downloading pytest-4.6.3-py2.py3-none-any.whl (229 kB)\n",
            "\u001b[2K     \u001b[90m━━━━━━━━━━━━━━━━━━━━━━━━━━━━━━━━━━━━━━\u001b[0m \u001b[32m229.6/229.6 KB\u001b[0m \u001b[31m24.9 MB/s\u001b[0m eta \u001b[36m0:00:00\u001b[0m\n",
            "\u001b[?25h  Downloading pytest-4.6.2-py2.py3-none-any.whl (229 kB)\n",
            "\u001b[2K     \u001b[90m━━━━━━━━━━━━━━━━━━━━━━━━━━━━━━━━━━━━━━\u001b[0m \u001b[32m229.5/229.5 KB\u001b[0m \u001b[31m26.0 MB/s\u001b[0m eta \u001b[36m0:00:00\u001b[0m\n",
            "\u001b[?25h  Downloading pytest-4.6.1-py2.py3-none-any.whl (229 kB)\n",
            "\u001b[2K     \u001b[90m━━━━━━━━━━━━━━━━━━━━━━━━━━━━━━━━━━━━━━\u001b[0m \u001b[32m229.9/229.9 KB\u001b[0m \u001b[31m25.2 MB/s\u001b[0m eta \u001b[36m0:00:00\u001b[0m\n",
            "\u001b[?25h  Downloading pytest-4.6.0-py2.py3-none-any.whl (229 kB)\n",
            "\u001b[2K     \u001b[90m━━━━━━━━━━━━━━━━━━━━━━━━━━━━━━━━━━━━━━\u001b[0m \u001b[32m229.8/229.8 KB\u001b[0m \u001b[31m24.8 MB/s\u001b[0m eta \u001b[36m0:00:00\u001b[0m\n",
            "\u001b[?25hINFO: pip is looking at multiple versions of pytest-cov to determine which version is compatible with other requirements. This could take a while.\n",
            "Collecting pytest-cov>=2.5.1\n",
            "  Downloading pytest_cov-3.0.0-py3-none-any.whl (20 kB)\n",
            "  Downloading pytest_cov-2.12.1-py2.py3-none-any.whl (20 kB)\n",
            "  Downloading pytest_cov-2.12.0-py2.py3-none-any.whl (20 kB)\n",
            "  Downloading pytest_cov-2.11.1-py2.py3-none-any.whl (20 kB)\n",
            "  Downloading pytest_cov-2.11.0-py2.py3-none-any.whl (20 kB)\n",
            "  Downloading pytest_cov-2.10.1-py2.py3-none-any.whl (19 kB)\n",
            "  Downloading pytest_cov-2.10.0-py2.py3-none-any.whl (19 kB)\n",
            "INFO: pip is looking at multiple versions of pytest-cov to determine which version is compatible with other requirements. This could take a while.\n",
            "  Downloading pytest_cov-2.9.0-py2.py3-none-any.whl (19 kB)\n",
            "INFO: pip is looking at multiple versions of pytest-mock to determine which version is compatible with other requirements. This could take a while.\n",
            "Collecting pytest-mock>=1.6.3\n",
            "  Downloading pytest_mock-3.9.0-py3-none-any.whl (9.1 kB)\n",
            "  Downloading pytest_mock-3.8.2-py3-none-any.whl (9.1 kB)\n",
            "  Downloading pytest_mock-3.8.1-py3-none-any.whl (9.1 kB)\n",
            "  Downloading pytest_mock-3.8.0-py3-none-any.whl (9.1 kB)\n",
            "  Downloading pytest_mock-3.7.0-py3-none-any.whl (12 kB)\n",
            "  Downloading pytest_mock-3.6.1-py3-none-any.whl (12 kB)\n",
            "  Downloading pytest_mock-3.6.0-py3-none-any.whl (12 kB)\n",
            "INFO: pip is looking at multiple versions of pytest-mock to determine which version is compatible with other requirements. This could take a while.\n",
            "  Downloading pytest_mock-3.5.1-py3-none-any.whl (12 kB)\n",
            "  Downloading pytest_mock-3.5.0-py3-none-any.whl (12 kB)\n",
            "  Downloading pytest_mock-3.4.0-py3-none-any.whl (11 kB)\n",
            "  Downloading pytest_mock-3.3.1-py3-none-any.whl (11 kB)\n",
            "  Downloading pytest_mock-3.3.0-py3-none-any.whl (11 kB)\n",
            "INFO: This is taking longer than usual. You might need to provide the dependency resolver with stricter constraints to reduce runtime. See https://pip.pypa.io/warnings/backtracking for guidance. If you want to abort this run, press Ctrl + C.\n",
            "  Downloading pytest_mock-3.2.0-py3-none-any.whl (10 kB)\n",
            "Building wheels for collected packages: pycountry\n",
            "  Building wheel for pycountry (pyproject.toml) ... \u001b[?25l\u001b[?25hdone\n",
            "  Created wheel for pycountry: filename=pycountry-22.3.5-py2.py3-none-any.whl size=10681845 sha256=93711d30dd8f6b8403e2f2e5a83973c7946ee2ad5c1b4e2f65bdbf8faeaf86f7\n",
            "  Stored in directory: /root/.cache/pip/wheels/e2/aa/0f/c224e473b464387170b83ca7c66947b4a7e33e8d903a679748\n",
            "Successfully built pycountry\n",
            "Installing collected packages: repoze.lru, pprintpp, pycountry, coverage, pytest-mock, pytest-cov, pycountry-convert\n",
            "Successfully installed coverage-7.1.0 pprintpp-0.4.0 pycountry-22.3.5 pycountry-convert-0.7.2 pytest-cov-2.9.0 pytest-mock-3.2.0 repoze.lru-0.7\n"
          ]
        }
      ]
    },
    {
      "cell_type": "markdown",
      "source": [
        "# add column with continents in mds results"
      ],
      "metadata": {
        "id": "Cf0YxR6gC1LD"
      }
    },
    {
      "cell_type": "code",
      "source": [
        "import pandas as pd\n",
        "from pycountry_convert import country_alpha2_to_continent_code, country_alpha3_to_country_alpha2, country_name_to_country_alpha3\n",
        "\n",
        "# read the csv file into a pandas dataframe\n",
        "df = pd.read_csv('MDS_results.csv')\n",
        "\n",
        "# create a list to store the continent names\n",
        "continents = []\n",
        "\n",
        "# loop through the countries in the dataframe\n",
        "for country in df['country']:\n",
        "    try:\n",
        "        # get the country's alpha-3 code\n",
        "        country_code = country_name_to_country_alpha3(country)\n",
        "        # get the country's alpha-2 code from the alpha-3 code\n",
        "        country_code_alpha2 = country_alpha3_to_country_alpha2(country_code)\n",
        "        # get the continent code from the alpha-2 code\n",
        "        continent_code = country_alpha2_to_continent_code(country_code_alpha2)\n",
        "        # append the continent name to the list\n",
        "        continents.append(continent_code)\n",
        "    except:\n",
        "        # if the country name is not valid, append NaN to the list\n",
        "        continents.append(\"NaN\")\n",
        "\n",
        "# add the continents list as a new column to the dataframe\n",
        "df['continent'] = continents\n",
        "\n",
        "# replace the values in the continent column\n",
        "df['continent'] = df['continent'].replace({'AS': 'Asia', 'AF': 'Africa', 'EU': 'Europe', 'SA': 'South America', 'NA': 'North America', 'OC': 'Oceania'})\n",
        "\n",
        "# save the updated dataframe to a new csv file\n",
        "df.to_csv('MDS_results_with_continent.csv', index=False)"
      ],
      "metadata": {
        "id": "zZEbmstuBGpw"
      },
      "execution_count": null,
      "outputs": []
    },
    {
      "cell_type": "markdown",
      "source": [
        "# MDS"
      ],
      "metadata": {
        "id": "7PYwcMCtC-9X"
      }
    },
    {
      "cell_type": "code",
      "source": [
        "import pandas as pd\n",
        "import numpy as np\n",
        "import matplotlib.pyplot as plt\n",
        "from sklearn.manifold import MDS\n",
        "from sklearn.preprocessing import MinMaxScaler\n",
        "from sklearn import preprocessing\n",
        "\n",
        "year = 2011\n",
        "\n",
        "# Load data from CSV file\n",
        "data = pd.read_csv(f'/content/drive/MyDrive/VA/multidb/data_{year}.csv')\n",
        "\n",
        "# Replace NaN values with column means\n",
        "data = data.fillna(data.mean())\n",
        "\n",
        "# Extract variables to use in MDS analysis\n",
        "hdi = data[['Life_Expectancy_at_Birth',\n",
        "           'Expected_Years_of_Schooling', 'Mean_Years_of_Schooling',\n",
        "           'Gross_National_Income_Per_Capita']]\n",
        "\n",
        "gdi= data[['HDI_female', 'HDI_male']]\n",
        "\n",
        "i_hdi = data[['Coefficient_of_human_inequality', 'Overall_loss_%',\n",
        "           'Inequality_in_life_expectancy', 'Inequality_in_eduation',\n",
        "           'Inequality_in_income', 'Gender_Inequality_Index']]\n",
        "\n",
        "all = data[['Human_Development_Index', 'Life_Expectancy_at_Birth',\n",
        "           'Expected_Years_of_Schooling', 'Mean_Years_of_Schooling',\n",
        "           'Gross_National_Income_Per_Capita', \n",
        "           'Gender_Development_Index', 'HDI_female', 'HDI_male',\n",
        "           'Inequality-adjusted_Human_Development_Index',\n",
        "           'Coefficient_of_human_inequality', 'Overall_loss_%',\n",
        "           'Inequality_in_life_expectancy', 'Inequality_in_eduation',\n",
        "           'Inequality_in_income', 'Gender_Inequality_Index']]\n",
        "\n",
        "all_no_compose = data[['Life_Expectancy_at_Birth',\n",
        "           'Expected_Years_of_Schooling', 'Mean_Years_of_Schooling',\n",
        "           'Gross_National_Income_Per_Capita', 'HDI_female', 'HDI_male',\n",
        "           'Coefficient_of_human_inequality', 'Overall_loss_%',\n",
        "           'Inequality_in_life_expectancy', 'Inequality_in_eduation',\n",
        "           'Inequality_in_income']]\n",
        "\n",
        "X = all\n",
        "\n",
        "# Scale the data\n",
        "std_scale = preprocessing.StandardScaler().fit(X)\n",
        "X = std_scale.transform(X) \n",
        "\n",
        "# Compute MDS embedding\n",
        "mds = MDS(n_components=2, dissimilarity='euclidean')\n",
        "X_mds = mds.fit_transform(X)\n",
        "\n",
        "# Save DataFrame to CSV file\n",
        "df.to_csv(f'MDS_results_{year}.csv', index=False)\n",
        "\n",
        "# Define color map\n",
        "color_map = {\n",
        "    'Low': 'red',\n",
        "    'Medium': 'orange',\n",
        "    'High': 'green',\n",
        "    'Very High': 'purple',\n",
        "    'Nan': 'grey'\n",
        "}\n",
        "\n",
        "# Get the human development groups from the data\n",
        "groups = data['Human_Development_Groups'].fillna('Nan')\n",
        "\n",
        "# Get the corresponding color for each group\n",
        "colors = [color_map[group] for group in groups]\n",
        "\n",
        "# Get the first column of the dataset\n",
        "labels = data.iloc[:, 1].values\n",
        "\n",
        "# Plot MDS results\n",
        "plt.figure(figsize=(10, 8))\n",
        "plt.scatter(X_mds[:, 0], X_mds[:, 1], c=colors)\n",
        "#for i, label in enumerate(labels):\n",
        "    #plt.annotate(label, (X_mds[i, 0], X_mds[i, 1]))\n",
        "plt.title('MDS plot')\n",
        "plt.show()\n"
      ],
      "metadata": {
        "colab": {
          "base_uri": "https://localhost:8080/",
          "height": 554
        },
        "id": "s2bA-gbUpHBZ",
        "outputId": "c3f6ddf9-edb4-4d2f-f434-28ce0749734b"
      },
      "execution_count": null,
      "outputs": [
        {
          "output_type": "stream",
          "name": "stderr",
          "text": [
            "<ipython-input-141-999949ed5d01>:14: FutureWarning: Dropping of nuisance columns in DataFrame reductions (with 'numeric_only=None') is deprecated; in a future version this will raise TypeError.  Select only valid columns before calling the reduction.\n",
            "  data = data.fillna(data.mean())\n"
          ]
        },
        {
          "output_type": "display_data",
          "data": {
            "text/plain": [
              "<Figure size 720x576 with 1 Axes>"
            ],
            "image/png": "[encoded data removed]"
          },
          "metadata": {
            "needs_background": "light"
          }
        }
      ]
    },
    {
      "cell_type": "markdown",
      "source": [
        "# MDS + Continents + Popluation"
      ],
      "metadata": {
        "id": "dvfS10dp8X7y"
      }
    },
    {
      "cell_type": "code",
      "source": [
        "import pandas as pd\n",
        "import numpy as np\n",
        "import matplotlib.pyplot as plt\n",
        "from sklearn.manifold import MDS\n",
        "from sklearn.preprocessing import MinMaxScaler\n",
        "from sklearn import preprocessing\n",
        "\n",
        "year = 2015\n",
        "\n",
        "# Load data from CSV file\n",
        "data = pd.read_csv(f'/content/drive/MyDrive/VA/multidb/data_{year}.csv')\n",
        "\n",
        "# Replace NaN values with column means\n",
        "data = data.fillna(data.mean())\n",
        "\n",
        "# Extract variables to use in MDS analysis\n",
        "hdi = data[['Life_Expectancy_at_Birth',\n",
        "           'Expected_Years_of_Schooling', 'Mean_Years_of_Schooling',\n",
        "           'Gross_National_Income_Per_Capita']]\n",
        "\n",
        "gdi= data[['HDI_female', 'HDI_male']]\n",
        "\n",
        "i_hdi = data[['Coefficient_of_human_inequality', 'Overall_loss_%',\n",
        "           'Inequality_in_life_expectancy', 'Inequality_in_eduation',\n",
        "           'Inequality_in_income', 'Gender_Inequality_Index']]\n",
        "\n",
        "all = data[['Human_Development_Index', 'Life_Expectancy_at_Birth',\n",
        "           'Expected_Years_of_Schooling', 'Mean_Years_of_Schooling',\n",
        "           'Gross_National_Income_Per_Capita', \n",
        "           'Gender_Development_Index', 'HDI_female', 'HDI_male',\n",
        "           'Inequality-adjusted_Human_Development_Index',\n",
        "           'Coefficient_of_human_inequality', 'Overall_loss_%',\n",
        "           'Inequality_in_life_expectancy', 'Inequality_in_eduation',\n",
        "           'Inequality_in_income', 'Gender_Inequality_Index']]\n",
        "\n",
        "all_no_compose = data[['Life_Expectancy_at_Birth',\n",
        "           'Expected_Years_of_Schooling', 'Mean_Years_of_Schooling',\n",
        "           'Gross_National_Income_Per_Capita', 'HDI_female', 'HDI_male',\n",
        "           'Inequality_in_life_expectancy', 'Inequality_in_eduation',\n",
        "           'Inequality_in_income']]\n",
        "\n",
        "X = all_no_compose\n",
        "\n",
        "# Scale the data\n",
        "std_scale = preprocessing.StandardScaler().fit(X)\n",
        "X = std_scale.transform(X) \n",
        "\n",
        "# Compute MDS embedding\n",
        "mds = MDS(n_components=2, dissimilarity='euclidean')\n",
        "X_mds = mds.fit_transform(X)\n",
        "\n",
        "# Create a DataFrame with the MDS results\n",
        "mds_results = pd.DataFrame(X_mds, columns=['first', 'second'])\n",
        "\n",
        "# Concatenate the original data with the MDS results\n",
        "result = pd.concat([data, mds_results], axis=1)\n",
        "\n",
        "# Save DataFrame to CSV file\n",
        "result.to_csv(f'all_data_and_MDS_results_{year}.csv', index=False)\n"
      ],
      "metadata": {
        "colab": {
          "base_uri": "https://localhost:8080/"
        },
        "id": "xHz4UF7XSmAN",
        "outputId": "c08a9fb7-4bd5-429e-bf69-3d96398b7f57"
      },
      "execution_count": null,
      "outputs": [
        {
          "output_type": "stream",
          "name": "stderr",
          "text": [
            "<ipython-input-111-c0afe743e02b>:14: FutureWarning: Dropping of nuisance columns in DataFrame reductions (with 'numeric_only=None') is deprecated; in a future version this will raise TypeError.  Select only valid columns before calling the reduction.\n",
            "  data = data.fillna(data.mean())\n"
          ]
        }
      ]
    },
    {
      "cell_type": "code",
      "source": [
        "import pandas as pd\n",
        "from pycountry_convert import country_alpha2_to_continent_code, country_alpha3_to_country_alpha2, country_name_to_country_alpha3\n",
        "\n",
        "# read the csv file into a pandas dataframe\n",
        "df = pd.read_csv(f'all_data_and_MDS_results_{year}.csv')\n",
        "\n",
        "# create a list to store the continent names\n",
        "continents = []\n",
        "\n",
        "# loop through the countries in the dataframe\n",
        "for country in df['Country']:\n",
        "    try:\n",
        "        # get the country's alpha-3 code\n",
        "        country_code = country_name_to_country_alpha3(country)\n",
        "        # get the country's alpha-2 code from the alpha-3 code\n",
        "        country_code_alpha2 = country_alpha3_to_country_alpha2(country_code)\n",
        "        # get the continent code from the alpha-2 code\n",
        "        continent_code = country_alpha2_to_continent_code(country_code_alpha2)\n",
        "        # append the continent name to the list\n",
        "        continents.append(continent_code)\n",
        "    except:\n",
        "        # if the country name is not valid, append NaN to the list\n",
        "        continents.append(\"Asia\")\n",
        "\n",
        "# add the continents list as a new column to the dataframe\n",
        "df['continent'] = continents\n",
        "\n",
        "# replace the values in the continent column\n",
        "df['continent'] = df['continent'].replace({'AS': 'Asia', 'AF': 'Africa', 'EU': 'Europe', 'SA': 'South America', 'NA': 'North America', 'OC': 'Oceania'})\n",
        "\n",
        "# save the updated dataframe to a new csv file\n",
        "df.to_csv(f'new_data/data_{year}.csv', index=False)"
      ],
      "metadata": {
        "id": "yojOAij-S2WL"
      },
      "execution_count": null,
      "outputs": []
    },
    {
      "cell_type": "code",
      "source": [
        "population = pd.read_csv(\"/content/drive/MyDrive/VA/population_by_country_2020.csv\")\n",
        "data = df.merge(population, on=\"Country\")\n",
        "data.to_csv(f\"data_with_pop/data_{year}.csv\", index=False)"
      ],
      "metadata": {
        "id": "lG_fCcVK9Fqb"
      },
      "execution_count": null,
      "outputs": []
    },
    {
      "cell_type": "code",
      "source": [
        "!zip -r data_with_pop.zip /content/data_with_pop"
      ],
      "metadata": {
        "colab": {
          "base_uri": "https://localhost:8080/"
        },
        "id": "eRHfK6c7U7q_",
        "outputId": "69cbf638-8a38-4441-a099-8b269afff5d5"
      },
      "execution_count": null,
      "outputs": [
        {
          "output_type": "stream",
          "name": "stdout",
          "text": [
            "  adding: content/data_with_pop/ (stored 0%)\n",
            "  adding: content/data_with_pop/data_2011_with_population.csv (deflated 56%)\n",
            "  adding: content/data_with_pop/data_2017_with_population.csv (deflated 55%)\n",
            "  adding: content/data_with_pop/data_2018_with_population.csv (deflated 54%)\n",
            "  adding: content/data_with_pop/data_2014_with_population.csv (deflated 55%)\n",
            "  adding: content/data_with_pop/data_2019_with_population.csv (deflated 54%)\n",
            "  adding: content/data_with_pop/data_2013_with_population.csv (deflated 55%)\n",
            "  adding: content/data_with_pop/data_2021_with_population.csv (deflated 54%)\n",
            "  adding: content/data_with_pop/data_2016_with_population.csv (deflated 55%)\n",
            "  adding: content/data_with_pop/data_2012_with_population.csv (deflated 55%)\n",
            "  adding: content/data_with_pop/data_2020_with_population.csv (deflated 54%)\n"
          ]
        }
      ]
    }
  ]
}